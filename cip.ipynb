{
 "cells": [
  {
   "cell_type": "code",
   "execution_count": 1,
   "metadata": {},
   "outputs": [],
   "source": [
    "import pandas as pd\n",
    "import matplotlib.pyplot as plt"
   ]
  },
  {
   "cell_type": "code",
   "execution_count": 2,
   "metadata": {},
   "outputs": [],
   "source": [
    "def plot(data):\n",
    "    fig, ax = plt.subplots()\n",
    "    plt.plot(data)\n",
    "    plt.axhline(y=0, lw=.75, c='k')\n",
    "    plt.grid()\n",
    "    plt.show()"
   ]
  },
  {
   "cell_type": "markdown",
   "metadata": {},
   "source": [
    "### Import Data"
   ]
  },
  {
   "cell_type": "code",
   "execution_count": 3,
   "metadata": {},
   "outputs": [
    {
     "name": "stdout",
     "output_type": "stream",
     "text": [
      "Index(['EURUSD', 'US3M', 'EUR3M', 'EUR3M fwd', 'EURIBOR'], dtype='object')\n"
     ]
    }
   ],
   "source": [
    "data = pd.read_csv('data.csv', index_col=0)\n",
    "data.index = pd.to_datetime(data.index)\n",
    "print(data.columns)\n",
    "\n",
    "# US3M = 3 month usd libor"
   ]
  },
  {
   "cell_type": "code",
   "execution_count": 4,
   "metadata": {},
   "outputs": [
    {
     "data": {
      "text/html": [
       "<div>\n",
       "<style scoped>\n",
       "    .dataframe tbody tr th:only-of-type {\n",
       "        vertical-align: middle;\n",
       "    }\n",
       "\n",
       "    .dataframe tbody tr th {\n",
       "        vertical-align: top;\n",
       "    }\n",
       "\n",
       "    .dataframe thead th {\n",
       "        text-align: right;\n",
       "    }\n",
       "</style>\n",
       "<table border=\"1\" class=\"dataframe\">\n",
       "  <thead>\n",
       "    <tr style=\"text-align: right;\">\n",
       "      <th></th>\n",
       "      <th>EURUSD</th>\n",
       "      <th>US3M</th>\n",
       "      <th>EUR3M</th>\n",
       "      <th>EUR3M fwd</th>\n",
       "      <th>EURIBOR</th>\n",
       "    </tr>\n",
       "    <tr>\n",
       "      <th>Date</th>\n",
       "      <th></th>\n",
       "      <th></th>\n",
       "      <th></th>\n",
       "      <th></th>\n",
       "      <th></th>\n",
       "    </tr>\n",
       "  </thead>\n",
       "  <tbody>\n",
       "    <tr>\n",
       "      <th>2000-01-03</th>\n",
       "      <td>1.0243</td>\n",
       "      <td>6.00125</td>\n",
       "      <td>3.338</td>\n",
       "      <td>67.50</td>\n",
       "      <td>3.338</td>\n",
       "    </tr>\n",
       "    <tr>\n",
       "      <th>2000-01-04</th>\n",
       "      <td>1.0296</td>\n",
       "      <td>6.04250</td>\n",
       "      <td>3.343</td>\n",
       "      <td>69.70</td>\n",
       "      <td>3.343</td>\n",
       "    </tr>\n",
       "    <tr>\n",
       "      <th>2000-01-05</th>\n",
       "      <td>1.0321</td>\n",
       "      <td>6.03000</td>\n",
       "      <td>3.341</td>\n",
       "      <td>69.80</td>\n",
       "      <td>3.341</td>\n",
       "    </tr>\n",
       "    <tr>\n",
       "      <th>2000-01-06</th>\n",
       "      <td>1.0328</td>\n",
       "      <td>6.03000</td>\n",
       "      <td>3.331</td>\n",
       "      <td>69.50</td>\n",
       "      <td>3.331</td>\n",
       "    </tr>\n",
       "    <tr>\n",
       "      <th>2000-01-07</th>\n",
       "      <td>1.0295</td>\n",
       "      <td>6.03000</td>\n",
       "      <td>3.322</td>\n",
       "      <td>69.88</td>\n",
       "      <td>3.322</td>\n",
       "    </tr>\n",
       "    <tr>\n",
       "      <th>...</th>\n",
       "      <td>...</td>\n",
       "      <td>...</td>\n",
       "      <td>...</td>\n",
       "      <td>...</td>\n",
       "      <td>...</td>\n",
       "    </tr>\n",
       "    <tr>\n",
       "      <th>2019-11-14</th>\n",
       "      <td>1.1022</td>\n",
       "      <td>1.90413</td>\n",
       "      <td>-0.399</td>\n",
       "      <td>68.75</td>\n",
       "      <td>-0.399</td>\n",
       "    </tr>\n",
       "    <tr>\n",
       "      <th>2019-11-15</th>\n",
       "      <td>1.1051</td>\n",
       "      <td>1.90263</td>\n",
       "      <td>-0.404</td>\n",
       "      <td>68.44</td>\n",
       "      <td>-0.404</td>\n",
       "    </tr>\n",
       "    <tr>\n",
       "      <th>2019-11-18</th>\n",
       "      <td>1.1072</td>\n",
       "      <td>1.89850</td>\n",
       "      <td>-0.403</td>\n",
       "      <td>68.57</td>\n",
       "      <td>-0.403</td>\n",
       "    </tr>\n",
       "    <tr>\n",
       "      <th>2019-11-19</th>\n",
       "      <td>1.1078</td>\n",
       "      <td>1.89463</td>\n",
       "      <td>-0.408</td>\n",
       "      <td>68.76</td>\n",
       "      <td>-0.408</td>\n",
       "    </tr>\n",
       "    <tr>\n",
       "      <th>2019-11-20</th>\n",
       "      <td>1.1072</td>\n",
       "      <td>1.89463</td>\n",
       "      <td>-0.408</td>\n",
       "      <td>70.59</td>\n",
       "      <td>-0.406</td>\n",
       "    </tr>\n",
       "  </tbody>\n",
       "</table>\n",
       "<p>5188 rows × 5 columns</p>\n",
       "</div>"
      ],
      "text/plain": [
       "            EURUSD     US3M  EUR3M  EUR3M fwd  EURIBOR\n",
       "Date                                                  \n",
       "2000-01-03  1.0243  6.00125  3.338      67.50    3.338\n",
       "2000-01-04  1.0296  6.04250  3.343      69.70    3.343\n",
       "2000-01-05  1.0321  6.03000  3.341      69.80    3.341\n",
       "2000-01-06  1.0328  6.03000  3.331      69.50    3.331\n",
       "2000-01-07  1.0295  6.03000  3.322      69.88    3.322\n",
       "...            ...      ...    ...        ...      ...\n",
       "2019-11-14  1.1022  1.90413 -0.399      68.75   -0.399\n",
       "2019-11-15  1.1051  1.90263 -0.404      68.44   -0.404\n",
       "2019-11-18  1.1072  1.89850 -0.403      68.57   -0.403\n",
       "2019-11-19  1.1078  1.89463 -0.408      68.76   -0.408\n",
       "2019-11-20  1.1072  1.89463 -0.408      70.59   -0.406\n",
       "\n",
       "[5188 rows x 5 columns]"
      ]
     },
     "execution_count": 4,
     "metadata": {},
     "output_type": "execute_result"
    }
   ],
   "source": [
    "data"
   ]
  },
  {
   "cell_type": "markdown",
   "metadata": {},
   "source": [
    "### EUR/USD"
   ]
  },
  {
   "cell_type": "code",
   "execution_count": 5,
   "metadata": {},
   "outputs": [],
   "source": [
    "eurusd_spot = data['EURUSD']\n",
    "eurusd_fwd = data['EUR3M fwd'] / 100 / 100 + eurusd_spot\n",
    "r = data['US3M'] / 100\n",
    "rf = data['EURIBOR'] / 100\n",
    "\n",
    "\n",
    "#basis = eurusd_fwd / eurusd_spot -  (1 + rf) / (1 + r)\n",
    "basis = (eurusd_fwd - eurusd_spot) / eurusd_spot - (r - rf)\n"
   ]
  },
  {
   "cell_type": "code",
   "execution_count": 6,
   "metadata": {},
   "outputs": [
    {
     "data": {
      "image/png": "[encoded data removed]",
      "text/plain": [
       "<Figure size 432x288 with 1 Axes>"
      ]
     },
     "metadata": {
      "needs_background": "light"
     },
     "output_type": "display_data"
    }
   ],
   "source": [
    "basis = basis['2001-01-01':'2016-12-31']\n",
    "\n",
    "plot(basis)"
   ]
  },
  {
   "cell_type": "markdown",
   "metadata": {},
   "source": [
    "### USD/EUR"
   ]
  },
  {
   "cell_type": "code",
   "execution_count": 7,
   "metadata": {},
   "outputs": [],
   "source": [
    "usdeur_spot = 1 / data['EURUSD']\n",
    "usdeur_fwd = 1 / (data['EUR3M fwd'] / 100 / 100 + eurusd_spot)\n",
    "rf = data['US3M'] / 100\n",
    "r = data['EURIBOR'] / 100\n",
    "\n",
    "\n",
    "basis = usdeur_fwd / usdeur_spot -  (1 + rf) / (1 + r)\n",
    "basis = (usdeur_fwd - usdeur_spot) / usdeur_spot - (r - rf)"
   ]
  },
  {
   "cell_type": "markdown",
   "metadata": {},
   "source": [
    "Unsurprisingly, the graph is now mirrored:"
   ]
  },
  {
   "cell_type": "code",
   "execution_count": 8,
   "metadata": {},
   "outputs": [
    {
     "data": {
      "image/png": "[encoded data removed]",
      "text/plain": [
       "<Figure size 432x288 with 1 Axes>"
      ]
     },
     "metadata": {
      "needs_background": "light"
     },
     "output_type": "display_data"
    }
   ],
   "source": [
    "basis = basis['2001-01-01':'2016-12-31']\n",
    "plot(basis)"
   ]
  }
 ],
 "metadata": {
  "kernelspec": {
   "display_name": "Python 3",
   "language": "python",
   "name": "python3"
  },
  "language_info": {
   "codemirror_mode": {
    "name": "ipython",
    "version": 3
   },
   "file_extension": ".py",
   "mimetype": "text/x-python",
   "name": "python",
   "nbconvert_exporter": "python",
   "pygments_lexer": "ipython3",
   "version": "3.7.1"
  }
 },
 "nbformat": 4,
 "nbformat_minor": 2
}
